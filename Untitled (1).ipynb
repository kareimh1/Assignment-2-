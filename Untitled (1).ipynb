{
 "cells": [
  {
   "cell_type": "code",
   "execution_count": 4,
   "id": "a2931a0f-b4c6-4702-b0ec-23b513e4c86e",
   "metadata": {},
   "outputs": [
    {
     "name": "stdout",
     "output_type": "stream",
     "text": [
      "                                                  title  ratings_count\n",
      "1     Harry Potter and the Sorcerer's Stone (Harry P...        4602479\n",
      "6     Harry Potter and the Prisoner of Azkaban (Harr...        1832823\n",
      "9     Harry Potter and the Chamber of Secrets (Harry...        1779331\n",
      "10    Harry Potter and the Goblet of Fire (Harry Pot...        1753043\n",
      "11    Harry Potter and the Deathly Hallows (Harry Po...        1746574\n",
      "8     Harry Potter and the Order of the Phoenix (Har...        1735368\n",
      "12    Harry Potter and the Half-Blood Prince (Harry ...        1678823\n",
      "96             Harry Potter Boxset (Harry Potter, #1-7)         190050\n",
      "613        Harry Potter Collection (Harry Potter, #1-6)          24618\n",
      "1036  The Magical Worlds of Harry Potter: A Treasury...          13820\n",
      "\n",
      "\n",
      "4.482727272727273\n"
     ]
    }
   ],
   "source": [
    "\n",
    "import pandas as pd\n",
    "\n",
    "\n",
    "df = pd.read_csv('books.csv')\n",
    "\n",
    "\n",
    "df['ratings_count'] = pd.to_numeric(df['ratings_count'], errors='coerce')\n",
    "df['average_rating'] = df['average_rating'].astype(float)\n",
    "\n",
    "\n",
    "df.dropna(subset=['title', 'ratings_count', 'average_rating'], inplace=True)\n",
    "\n",
    "\n",
    "harrypotter = df[df['title'].str.contains(\"Harry Potter\")]\n",
    "\n",
    "\n",
    "msharry_potter = harrypotter.nlargest(10, 'ratings_count')\n",
    "\n",
    "\n",
    "arharry_potter =harrypotter ['average_rating'].mean()\n",
    "\n",
    "\n",
    "\n",
    "print(msharry_potter[['title', 'ratings_count']])\n",
    "print(\"\\n\")\n",
    "print(arharry_potter)\n"
   ]
  },
  {
   "cell_type": "code",
   "execution_count": null,
   "id": "2b0c11cc-26ca-43de-be97-86ca58d179a1",
   "metadata": {},
   "outputs": [],
   "source": []
  }
 ],
 "metadata": {
  "kernelspec": {
   "display_name": "Python 3 (ipykernel)",
   "language": "python",
   "name": "python3"
  },
  "language_info": {
   "codemirror_mode": {
    "name": "ipython",
    "version": 3
   },
   "file_extension": ".py",
   "mimetype": "text/x-python",
   "name": "python",
   "nbconvert_exporter": "python",
   "pygments_lexer": "ipython3",
   "version": "3.11.6"
  }
 },
 "nbformat": 4,
 "nbformat_minor": 5
}
